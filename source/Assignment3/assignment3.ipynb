{
 "cells": [
  {
   "cell_type": "markdown",
   "metadata": {},
   "source": [
    "# Tạo máy ảo bằng Google Colab"
   ]
  },
  {
   "cell_type": "markdown",
   "metadata": {},
   "source": [
    "## Kill kernel cũ đi đồng thời tạo kết nối mới"
   ]
  },
  {
   "cell_type": "code",
   "execution_count": null,
   "metadata": {},
   "outputs": [],
   "source": [
    "!kill -9 -1"
   ]
  },
  {
   "cell_type": "markdown",
   "metadata": {},
   "source": [
    "## Cài đặt các thư viện cần thiết và chứng thực"
   ]
  },
  {
   "cell_type": "code",
   "execution_count": null,
   "metadata": {},
   "outputs": [],
   "source": [
    "!apt-get install -y -qq software-properties-common python-software-properties module-init-tools\n",
    "!add-apt-repository -y ppa:alessandro-strada/ppa 2>&1 > /dev/null\n",
    "!apt-get update -qq 2>&1 > /dev/null\n",
    "!apt-get -y install -qq google-drive-ocamlfuse fuse\n",
    "from google.colab import auth\n",
    "auth.authenticate_user()\n",
    "from oauth2client.client import GoogleCredentials\n",
    "creds = GoogleCredentials.get_application_default()\n",
    "import getpass\n",
    "!google-drive-ocamlfuse -headless -id={creds.client_id} -secret={creds.client_secret} < /dev/null 2>&1 | grep URL\n",
    "vcode = getpass.getpass()\n",
    "!echo {vcode} | google-drive-ocamlfuse -headless -id={creds.client_id} -secret={creds.client_secret}"
   ]
  },
  {
   "cell_type": "markdown",
   "metadata": {},
   "source": [
    "## Cài đặt các thư viện liên quan đến việc kết nối Google Drive"
   ]
  },
  {
   "cell_type": "code",
   "execution_count": null,
   "metadata": {},
   "outputs": [],
   "source": [
    "!mkdir -p drive\n",
    "!google-drive-ocamlfuse drive"
   ]
  },
  {
   "cell_type": "markdown",
   "metadata": {},
   "source": [
    "# Phân tích cảm xúc với LSTMs"
   ]
  },
  {
   "cell_type": "markdown",
   "metadata": {},
   "source": [
    "Trong assignment này, chúng ta sẽ dùng mạng LSTM để giải quyết bài toán phân tích cảm xúc (Sentiment Analysis) trên tập dữ liệu văn bản. Nếu nhìn theo kiểu black box, đầu vào của bài toán là một câu hoặc đoạn văn bản và đầu ra là trạng thái tích cực, tiêu cực hay trung hoà (positive - negative - neutral). Trong phạm vi của assignment này, chúng ta chỉ quan tâm đến hai trạng thái cảm xúc là positive và negative.\n",
    "\n",
    "![caption](Images/input_output.png)"
   ]
  },
  {
   "cell_type": "markdown",
   "metadata": {},
   "source": [
    "# Góc nhìn Word Vectors"
   ]
  },
  {
   "cell_type": "markdown",
   "metadata": {},
   "source": [
    "Nếu như chúng ta giữ nguyên định dạng đầu vào là chuỗi ký tự thì rất khó để thực hiện các thao tác biến đổi như tích vô hướng (dot product) hoặc các thuật toán trên mạng neural network như backpropagation. Thay vì dữ liệu đầu vào là một chuỗi, chúng ta cần chuyển đổi các từ trong tập từ điển sang dạng vector số học trong đó có thể thực hiện được các phép toán nêu trên.\n",
    "\n",
    "![caption](Images/word2vec.png)\n",
    "\n",
    "Trong hình minh hoạ ở trên, ta có thể hình dung dữ liệu đầu vào của thuật toán phân tích cảm xúc là một ma trận 16 x D chiều. Trong đó 16 là số lượng từ trong câu và D là số chiều của không gian vector để biểu diễn từ. Để ánh xạ từ một từ sang một vector, chúng ta sử dụng ma trận word embedding như đã thực hiện trong bài Lab 2."
   ]
  },
  {
   "cell_type": "markdown",
   "metadata": {},
   "source": [
    "## Tập dữ liệu"
   ]
  },
  {
   "cell_type": "markdown",
   "metadata": {},
   "source": [
    "Trong assignment này, chúng tôi sử dụng tập dữ liệu review trên trang Foody với khoảng 30,000 mẫu được gán nhãn. Trong đó có 15,000 mẫu positive và 15,000 mẫu negative. Nguồn: https://streetcodevn.com/blog/dataset. Tập dữ liệu này đã được đính kèm trong thư mục của assignment 3."
   ]
  },
  {
   "cell_type": "markdown",
   "metadata": {},
   "source": [
    "## Các bước để huấn luyện trên mạng RNN"
   ]
  },
  {
   "cell_type": "markdown",
   "metadata": {},
   "source": [
    "Có 5 bước chính để giải quyết bài toán phân tích cảm xúc trong văn bản:\n",
    "\n",
    "    1) Huấn luyện một mô hình phát sinh ra vector từ (như mô hình Word2Vec) hoặc tải lên các vector từ tiền huấn luyện.\n",
    "    2) Tạo ma trận ID cho tập dữ liệu huấn luyện\n",
    "    3) Tạo mô hình RNN với các đơn vị LSTM, sử dụng tensorflow\n",
    "    4) Huấn luyện mô hình RNN với dữ liệu ma trận đã tạo ở bước 2\n",
    "    5) Đánh giá mô hình đã huấn luyện với tập test"
   ]
  },
  {
   "cell_type": "markdown",
   "metadata": {},
   "source": [
    "# 1. Load tập từ vựng và ma trận word embedding"
   ]
  },
  {
   "cell_type": "markdown",
   "metadata": {},
   "source": [
    "Đầu tiên, để có thể biến đổi một từ thành một vector, chúng ta sử dụng mô hình đã được huấn luyện trước đó (pretrained model). Mô hình đã train trước đó cho tiếng Việt được lấy ở đây: https://s3-us-west-1.amazonaws.com/fasttext-vectors/word-vectors-v2/cc.vi.300.vec.gz\n",
    "\n",
    "Tuy nhiên, số lượng từ vựng tiếng Việt được huấn luyện rất lớn, khoảng 2M từ. Mỗi từ được biểu diễn dưới dạng một vector 300 chiều. Với kích thước gốc của ma trận word embedding như vậy sẽ gây khó khăn cho việc load dữ liệu cũng như đưa vào thư viện tensorflow để huấn luyện nên chúng tôi đã tối giản lại với số lượng từ tối thiểu để có thể chạy được trên tập dữ liệu review về đồ ăn của Foody.\n"
   ]
  },
  {
   "cell_type": "code",
   "execution_count": 4,
   "metadata": {},
   "outputs": [
    {
     "name": "stdout",
     "output_type": "stream",
     "text": [
      "Simplified vocabulary loaded!\n",
      "Word embedding matrix loaded!\n"
     ]
    }
   ],
   "source": [
    "import numpy as np\n",
    "import os\n",
    "# LƯU Ý: CẦN PHẢI CHỈNH LẠI ĐƯỜNG DẪN NÀY THÀNH THƯ MỤC CHỨA CÁC FILE ASSIGNMENT3\n",
    "# CHỮ 'drive' có nghĩa là thư mục mặc định của Google drive\n",
    "currentDir = '.'\n",
    "\n",
    "wordsList = np.load(os.path.join(currentDir, 'wordsList.npy'))\n",
    "print('Simplified vocabulary loaded!')\n",
    "wordsList = wordsList.tolist()\n",
    "#wordsList = [word.decode('UTF-8') for word in wordsList] #Encode words as UTF-8\n",
    "wordVectors = np.load(os.path.join(currentDir, 'wordVectors.npy'))\n",
    "wordVectors = np.float32(wordVectors)\n",
    "print ('Word embedding matrix loaded!')"
   ]
  },
  {
   "cell_type": "markdown",
   "metadata": {},
   "source": [
    "Để chắc chắn mọi dữ liệu được load lên một cách chính xác, chúng ta cần kiểm tra xem số lượng từ trong từ điển rút gọn và số chiều của ma trận word embedding có khớp với nhau hay không? Trong trường hợp này số từ mà chúng tôi giữ lại là 19,899 và số chiều trong không gian biểu diễn là 300 chiều."
   ]
  },
  {
   "cell_type": "code",
   "execution_count": 2,
   "metadata": {},
   "outputs": [
    {
     "name": "stdout",
     "output_type": "stream",
     "text": [
      "Size of the vocabulary:  19899\n",
      "Size of the word embedding matrix:  (19899, 300)\n"
     ]
    }
   ],
   "source": [
    "print('Size of the vocabulary: ', len(wordsList))\n",
    "print('Size of the word embedding matrix: ', wordVectors.shape)"
   ]
  },
  {
   "cell_type": "markdown",
   "metadata": {},
   "source": [
    "## Word2Vec trên một từ đơn"
   ]
  },
  {
   "cell_type": "markdown",
   "metadata": {},
   "source": [
    "Để có thể xác định được vector biểu diễn của một từ tiếng Việt. Đầu tiên chúng ta sẽ xác định xem vị trí của từ đó trong wordsList. Sau đó lấy vector ở dòng tương ứng trên trên ma trận wordVectors. "
   ]
  },
  {
   "cell_type": "code",
   "execution_count": 3,
   "metadata": {
    "scrolled": true
   },
   "outputs": [
    {
     "name": "stdout",
     "output_type": "stream",
     "text": [
      "Index of `ngon` in wordsList:  14598\n",
      "Vector representation of `ngon` is:  [-2.040e-02 -9.800e-03  2.290e-01 -3.770e-02  5.430e-02 -2.680e-02\n",
      "  2.190e-02 -6.290e-02 -2.200e-02 -1.010e-02  8.300e-03 -8.810e-02\n",
      " -3.630e-02  7.820e-02 -7.780e-02 -4.930e-02 -6.600e-03 -1.026e-01\n",
      " -1.040e-02  5.380e-02  4.100e-02  6.530e-02 -2.770e-02 -6.340e-02\n",
      "  2.270e-02  4.420e-02  3.340e-02 -4.960e-02  8.290e-02 -3.990e-02\n",
      "  3.750e-02  1.800e-02 -1.115e-01 -7.200e-02 -5.060e-02 -1.051e-01\n",
      " -4.560e-02 -1.765e-01 -3.300e-02 -6.800e-03  5.580e-02 -4.180e-02\n",
      "  4.380e-02  4.940e-02  7.400e-03  4.020e-02 -8.850e-02 -9.840e-02\n",
      " -5.210e-02 -5.500e-03  3.730e-02 -8.460e-02 -6.910e-02 -4.980e-02\n",
      " -3.910e-02 -4.980e-02 -8.690e-02  6.100e-03 -5.360e-02 -3.800e-03\n",
      "  1.162e-01 -4.160e-02  5.000e-03 -7.240e-02 -3.320e-02  1.800e-02\n",
      "  1.200e-02 -4.420e-02  1.350e-01  6.580e-02 -1.110e-02  1.960e-02\n",
      "  1.750e-02  2.010e-02  2.200e-03  1.810e-01 -6.610e-02 -6.860e-02\n",
      " -4.690e-02  7.890e-02  6.880e-02 -5.320e-02  2.770e-02  5.710e-02\n",
      " -1.183e-01  4.170e-02 -8.200e-02 -5.900e-02  8.790e-02  9.640e-02\n",
      "  6.000e-02  1.330e-02 -3.640e-02 -1.110e-02 -2.200e-02  1.770e-02\n",
      " -3.420e-02 -4.020e-02  3.590e-02  1.467e-01 -1.730e-02 -2.650e-02\n",
      "  6.400e-02  7.000e-03 -3.930e-02 -5.540e-02 -4.360e-02  8.000e-02\n",
      " -5.480e-02  3.840e-02 -8.330e-02  7.070e-02 -9.100e-03  2.480e-02\n",
      " -7.500e-03  3.030e-02 -6.600e-03 -9.800e-03  7.640e-02 -9.300e-03\n",
      "  2.330e-02 -2.000e-02  5.970e-02 -2.680e-02 -2.000e-02 -9.700e-03\n",
      " -5.310e-02 -9.820e-02 -2.570e-02  2.400e-02 -5.860e-02  1.820e-02\n",
      " -4.280e-02  9.580e-02  3.400e-02 -7.100e-03 -6.200e-03  1.239e-01\n",
      "  4.830e-02 -4.050e-02  4.810e-02 -1.093e-01  1.540e-02 -3.860e-02\n",
      "  1.250e-01 -7.950e-02  6.800e-03  7.420e-02  5.500e-02 -4.130e-02\n",
      " -2.090e-02 -2.250e-02  3.960e-02 -1.086e-01 -2.200e-02 -4.420e-02\n",
      "  1.965e-01 -2.260e-02  1.196e-01  1.200e-02  1.199e-01 -8.700e-03\n",
      "  4.260e-02  3.460e-02 -3.780e-02  1.951e-01 -9.300e-03 -6.260e-02\n",
      "  2.730e-02  7.340e-02  1.800e-03  5.080e-02 -3.470e-02 -9.680e-02\n",
      " -1.278e-01  3.790e-02  6.920e-02 -5.300e-02 -1.020e-01  1.076e-01\n",
      "  1.361e-01 -7.390e-02  9.650e-02 -2.250e-02  1.597e-01 -2.750e-02\n",
      " -4.200e-03  1.032e-01 -4.910e-02 -7.100e-03 -1.840e-02  7.240e-02\n",
      " -2.040e-02 -5.010e-02 -2.000e-04 -4.190e-02 -5.720e-02 -8.000e-03\n",
      "  9.780e-02 -7.130e-02 -6.070e-02 -1.740e-02 -1.290e-02  8.250e-02\n",
      "  6.600e-03 -2.250e-02 -5.100e-02  6.520e-02 -1.870e-02  5.790e-02\n",
      "  1.814e-01 -1.220e-01  4.770e-02  5.300e-02 -4.230e-02  2.139e-01\n",
      " -9.100e-03  1.314e-01 -3.600e-02 -3.780e-02  4.260e-02  3.000e-04\n",
      " -8.200e-02  1.570e-02 -1.380e-02  3.420e-02 -2.080e-02  1.790e-01\n",
      "  5.240e-02 -1.464e-01  6.330e-02  5.620e-02  2.000e-03 -6.490e-02\n",
      "  4.000e-04 -1.310e-02  1.020e-02  6.380e-02 -1.190e-02  2.440e-02\n",
      " -1.430e-02  1.027e-01  3.200e-03 -1.120e-02  8.270e-02  5.690e-02\n",
      "  2.740e-02 -9.800e-02 -3.150e-02 -9.750e-02 -1.660e-02  7.640e-02\n",
      " -4.960e-02 -7.940e-02  1.177e-01 -2.800e-03  6.860e-02 -5.930e-02\n",
      "  7.470e-02  5.790e-02  3.450e-02  5.550e-02 -3.380e-02  1.292e-01\n",
      "  3.840e-02  7.440e-02 -6.450e-02  2.470e-02 -1.810e-02  9.840e-02\n",
      " -1.329e-01 -6.380e-02 -8.360e-02 -3.580e-02  6.500e-03  8.240e-02\n",
      " -6.140e-02 -1.116e-01  2.310e-02  8.070e-02 -1.670e-02  4.150e-02\n",
      " -8.210e-02  6.290e-02 -5.580e-02  2.600e-03 -2.170e-02  3.200e-03\n",
      " -5.500e-03  6.040e-02  2.990e-02 -1.061e-01  5.200e-02  7.560e-02\n",
      "  6.250e-02  1.007e-01 -1.080e-01 -5.420e-02 -6.620e-02  6.080e-02]\n"
     ]
    }
   ],
   "source": [
    "ngon_idx = wordsList.index('ngon')\n",
    "print('Index of `ngon` in wordsList: ', ngon_idx)\n",
    "ngon_vec = wordVectors[ngon_idx]\n",
    "print('Vector representation of `ngon` is: ', ngon_vec)"
   ]
  },
  {
   "cell_type": "markdown",
   "metadata": {},
   "source": [
    "### ToDo 3.1: Word2Vec để biểu diễn một đoạn văn bản"
   ]
  },
  {
   "cell_type": "markdown",
   "metadata": {},
   "source": [
    "Nâng cấp hơn so với phiên bản Word2Vec cho từ đơn, phần này chúng ta sẽ biểu diễn một câu dưới dạng một ma trận gồm các vector biểu diễn của từng từ chồng lên nhau.\n",
    "\n",
    "Ví dụ như chúng ta muốn biểu diễn câu \"Món này ăn hoài không biết chán\". Đầu tiên, với mỗi từ trong câu ta sẽ tìm chỉ số tương ứng trong từ điển và lưu vào vector đặt tên là 'sentenceIndexes'. Sau đó, chúng ta có thể sử dụng hàm tra cứu ma trận word embedding của thư viện Tensorflow tf.nn.embedding_lookup để tra các vector tại các chỉ số trong 'sentenceIndexes'. Như vậy nếu chúng ta sử dụng tối đa 10 từ để lưu trữ cho một câu thì ma trận biểu diễn cho câu sẽ là một ma trận kích thước 10 x 300."
   ]
  },
  {
   "cell_type": "markdown",
   "metadata": {},
   "source": [
    "![caption](Images/embedding.png)"
   ]
  },
  {
   "cell_type": "code",
   "execution_count": 4,
   "metadata": {},
   "outputs": [
    {
     "name": "stdout",
     "output_type": "stream",
     "text": [
      "(10,)\n",
      "Row index for each word:  [  119  8136  4884 18791 16614 15951  3371     0     0     0]\n",
      "Sentence representation of word vectors:\n",
      "(10, 300)\n"
     ]
    }
   ],
   "source": [
    "import tensorflow as tf\n",
    "maxSeqLength = 10   #Maximum length of sentence\n",
    "numDimensions = 300 #Dimensions for each word vector\n",
    "sentenceIndexes = np.zeros((maxSeqLength), dtype='int32')\n",
    "\n",
    "# TODO 3.1: Gán chỉ số của các từ trong câu và 'sentenceIndexes'\n",
    "sentence = \"Món này ăn hoài không biết chán\"\n",
    "sentence = sentence.lower().split()\n",
    "\n",
    "for idx, word in enumerate(sentence):\n",
    "    sentenceIndexes[idx] = wordsList.index(word)\n",
    "\n",
    "# Các chỉ số 7, 8, 9 của sentenceIndexes  vẫn được gán bằng 0 như cũ\n",
    "print(sentenceIndexes.shape)\n",
    "print('Row index for each word: ', sentenceIndexes)\n",
    "\n",
    "# Ma trận biểu diễn:\n",
    "print('Sentence representation of word vectors:')\n",
    "with tf.Session() as sess:\n",
    "    print(tf.nn.embedding_lookup(wordVectors,sentenceIndexes).eval().shape)"
   ]
  },
  {
   "cell_type": "markdown",
   "metadata": {},
   "source": [
    "Nếu như thực hiện đúng thì vector 'sentenceIndexes' sẽ có giá trị là: [119, 8136, 4884, 18791, 16614, 15951, 3371, 0, 0, 0]"
   ]
  },
  {
   "cell_type": "markdown",
   "metadata": {},
   "source": [
    "# 2. Khảo sát tập dữ liệu huấn luyện và tạo ma trận ID"
   ]
  },
  {
   "cell_type": "markdown",
   "metadata": {},
   "source": [
    "Trong assignment 3, chúng tôi sử dụng tập dữ liệu lấy từ trang web Foody trên miền dữ liệu liên quan đến ẩm thực. Tập dữ liệu bao gôm 15.000 review tích cực đặt trong thư mục 'positiveReviews' và 15.000 review tiêu cực đặt trong thư mục 'negativeReviews'. Do khối lượng dữ liệu lớn, nếu chúng ta chọn số lượng từ tối đa (maxSeqLength) quá cao thì sẽ bị lãng phí khi biểu diễn ở những câu review quá ngắn. Ngược lại, nếu sử dụng số lượng từ tối đa quá ít thì sẽ bị bỏ lỡ những từ quan trọng giúp cho việc phân tích cảm xúc.\n",
    "\n"
   ]
  },
  {
   "cell_type": "code",
   "execution_count": 5,
   "metadata": {
    "scrolled": true
   },
   "outputs": [
    {
     "name": "stdout",
     "output_type": "stream",
     "text": [
      "Positive files finished\n",
      "Negative files finished\n",
      "The total number of files is 30000\n",
      "The total number of words in the files is 1770824\n",
      "The average number of words in the files is 59.02746666666667\n"
     ]
    }
   ],
   "source": [
    "from os import listdir\n",
    "from os.path import isfile, join\n",
    "positiveFiles = [currentDir + '/positiveReviews/' + f for f in listdir(currentDir + '/positiveReviews/') if isfile(join(currentDir + '/positiveReviews/', f))]\n",
    "negativeFiles = [currentDir + '/negativeReviews/' + f for f in listdir(currentDir + '/negativeReviews/') if isfile(join(currentDir + '/negativeReviews/', f))]\n",
    "numWords = []\n",
    "for pf in positiveFiles:\n",
    "    with open(pf, \"r\", encoding='utf-8') as f:\n",
    "        line=f.readline()\n",
    "        counter = len(line.split())\n",
    "        numWords.append(counter)       \n",
    "print('Positive files finished')\n",
    "\n",
    "for nf in negativeFiles:\n",
    "    with open(nf, \"r\", encoding='utf-8') as f:\n",
    "        line=f.readline()\n",
    "        counter = len(line.split())\n",
    "        numWords.append(counter)  \n",
    "print('Negative files finished')\n",
    "\n",
    "numFiles = len(numWords)\n",
    "print('The total number of files is', numFiles)\n",
    "print('The total number of words in the files is', sum(numWords))\n",
    "print('The average number of words in the files is', sum(numWords)/len(numWords))"
   ]
  },
  {
   "cell_type": "markdown",
   "metadata": {},
   "source": [
    "Chúng ta có thể sử dụng thư viện Matplot để minh hoạ phân bố về chiều dài của các câu review trong tập dữ liệu:"
   ]
  },
  {
   "cell_type": "code",
   "execution_count": 6,
   "metadata": {},
   "outputs": [
    {
     "data": {
      "image/png": "[encoded data removed]",
      "text/plain": [
       "<Figure size 432x288 with 1 Axes>"
      ]
     },
     "metadata": {
      "needs_background": "light"
     },
     "output_type": "display_data"
    }
   ],
   "source": [
    "import matplotlib.pyplot as plt\n",
    "%matplotlib inline\n",
    "plt.hist(numWords, 50)\n",
    "plt.xlabel('Sequence Length')\n",
    "plt.ylabel('Frequency')\n",
    "plt.axis([0, 1200, 0, 8000])\n",
    "plt.show()"
   ]
  },
  {
   "cell_type": "markdown",
   "metadata": {},
   "source": [
    "Dựa trên biểu đồ histogram ở trên chúng ta có thể thấy là 180 là kết quả tương đối hợp lý. "
   ]
  },
  {
   "cell_type": "code",
   "execution_count": 5,
   "metadata": {},
   "outputs": [],
   "source": [
    "maxSeqLength = 180"
   ]
  },
  {
   "cell_type": "markdown",
   "metadata": {},
   "source": [
    "Để có cảm nhận rõ hơn về dữ liệu, chúng ta có thể hiển thị một số review bất kỳ như sau."
   ]
  },
  {
   "cell_type": "code",
   "execution_count": 8,
   "metadata": {},
   "outputs": [
    {
     "name": "stdout",
     "output_type": "stream",
     "text": [
      "A positive sentence: \n",
      "Xe_đẩy bán cơm_chiên nằm ngay đầu đường vào khu dân_cư metro , chạy từ ngoài vô là xe thứ_hai nhé . Mình hay mua cơm của chị này lắm , cơm_chiên mềm , nóng_ăn chung với trứng chiên , lạp_xưởng , thịt heo và chà bông nên vừa ăn lắm mà có thêm dưa_leo và cà_chua nên ăn_không ngán , ăn xong hợp cơm là bao no đến trưa . Giá chủ có 10/1 hộp à . Buổi_sáng rất đông người ghé mua , vì bán vừa ngon vừa rẻ lại ăn rất no . Tuy đông nhưng chị làm nhanh lắm mà nói_chuyện với khách cũng vui_vẻ lịch_sự nữa nên lần nào đi ngang buổi_sáng là ghé mua hoài à .\n",
      "\n",
      "A negative sentence: \n",
      "Mua có mỗi Bingsu thập_cẩm 45k mà mình f đợi hơn 20 ' . Hỏi lại thì nv tl có r nhg bảo chờ thêm 15 ' nữa \" tụi e lm liền \" .\n",
      "\n",
      "Mình k biết có ngon k nhg cũng muốn ăn thử . Thiết_nghĩ nv quán nên xem_lại cách pv và nc vs khách .\n",
      "\n"
     ]
    }
   ],
   "source": [
    "print('A positive sentence: ')\n",
    "fname = positiveFiles[0] # Randomly select a positive file to view\n",
    "with open(fname, encoding='utf-8') as f:\n",
    "    for lines in f:\n",
    "        print(lines)\n",
    "\n",
    "print('A negative sentence: ')\n",
    "fname = negativeFiles[0] # Randomly select a negative file to view\n",
    "with open(fname, encoding='utf-8') as f:\n",
    "    for lines in f:\n",
    "        print(lines)\n"
   ]
  },
  {
   "cell_type": "markdown",
   "metadata": {},
   "source": [
    "## Chuẩn hoá văn bản và tách từ"
   ]
  },
  {
   "cell_type": "markdown",
   "metadata": {},
   "source": [
    "Để tiết kiệm công sức và cũng nằm ngoài phạm vi của khoá học, chúng tôi đã chuẩn bị sẵn tập dữ liệu đã được tách từ. Giữa hai từ có thể ghép lại để tạo thành một khái niệm mới chúng tôi sử dụng ký tự '_' để nối các từ đó. Ví dụ: 'sinh_viên', 'sinh_học'.\n",
    "\n",
    "Chúng tôi chuẩn bị sẵn các hàm chuẩn hoá văn bản nhằm loại bỏ các ký tự đặc biệt. Tham khảo ở hàm 'cleanSentences'."
   ]
  },
  {
   "cell_type": "code",
   "execution_count": 6,
   "metadata": {},
   "outputs": [],
   "source": [
    "# Removes punctuation, parentheses, question marks, etc., and leaves only alphanumeric characters\n",
    "import re\n",
    "strip_special_chars = re.compile(\"[^\\w0-9 ]+\")\n",
    "\n",
    "def cleanSentences(string):\n",
    "    string = string.lower().replace(\"<br />\", \" \")\n",
    "    return re.sub(strip_special_chars, \"\", string.lower())"
   ]
  },
  {
   "cell_type": "markdown",
   "metadata": {},
   "source": [
    "Bây giờ chúng ta sẽ biểu diễn 30.000 review dưới dạng các chỉ số của các từ. Tập dữ liệu positive và negative sẽ được tính hợp lại thành một ma trận 30000x180. Trong đó 30000 là số lượng review và 180 là số lượng từ tối đa cho một câu. Do bước chuẩn bị này tốn khá nhiều tài nguyên tính toán nên sau khi tính toán xong, chúng ta sẽ lưu lại để sử dụng cho những lần chạy thí nghiệm sau. Ma trận lưu trữ các chỉ số này là: 'ids'."
   ]
  },
  {
   "cell_type": "markdown",
   "metadata": {},
   "source": [
    "### ToDo 3.2: xác định chỉ số của từng từ trong review"
   ]
  },
  {
   "cell_type": "markdown",
   "metadata": {},
   "source": [
    "Trong phần này chúng ta sẽ tiến hành tra cứu từng từ trong review, sau đó gán vào ma trận 'ids'. Trong đó chỉ số dòng của ma trận tương ứng với file review, chỉ số cột của ma trận tương ứng với một từ của review. Trường hợp từ nào không có trong tập từ điển thì ta sẽ gán bằng chỉ số của từ 'UNK' (unknow)."
   ]
  },
  {
   "cell_type": "code",
   "execution_count": 10,
   "metadata": {},
   "outputs": [
    {
     "name": "stdout",
     "output_type": "stream",
     "text": [
      "Positive files are indexed!\n",
      "Negative files are indexed!\n"
     ]
    }
   ],
   "source": [
    "ids = np.zeros((numFiles, maxSeqLength), dtype='int32')\n",
    "nFiles = 0\n",
    "# Index of Unknow word\n",
    "unk_idx = wordsList.index('UNK')\n",
    "\n",
    "for pf in positiveFiles:\n",
    "    with open(pf, \"r\", encoding=\"utf-8\") as f:\n",
    "        nIndexes = 0\n",
    "        line=f.readline()\n",
    "        cleanedLine = cleanSentences(line)\n",
    "        split = cleanedLine.split()\n",
    "        for word in split:\n",
    "            # TODO 3.2: Nếu 'word' thuộc tập 'wordsList' thì gán chỉ số của 'word' vào ma trận ids\n",
    "            if word in wordsList:\n",
    "                ids[nFiles, nIndexes] = wordsList.index(word)\n",
    "            # Ngược lại: gán 'unk_idx' vào ma trận ids\n",
    "            else:\n",
    "                ids[nFiles, nIndexes] = unk_idx\n",
    "            \n",
    "            nIndexes = nIndexes + 1\n",
    "            if nIndexes >= maxSeqLength:\n",
    "                break\n",
    "        nFiles = nFiles + 1 \n",
    "\n",
    "print('Positive files are indexed!')\n",
    "for nf in negativeFiles:\n",
    "    with open(nf, \"r\", encoding=\"utf-8\") as f:\n",
    "        nIndexes = 0\n",
    "        line=f.readline()\n",
    "        cleanedLine = cleanSentences(line)\n",
    "        split = cleanedLine.split()\n",
    "        for word in split:\n",
    "            # ToDo 3.2: tương tự như trên. Không khác gì hết.\n",
    "            if word in wordsList:\n",
    "                ids[nFiles, nIndexes] = wordsList.index(word)\n",
    "            else:\n",
    "                ids[nFiles, nIndexes] = unk_idx\n",
    "            \n",
    "            nIndexes = nIndexes + 1\n",
    "            if nIndexes >= maxSeqLength:\n",
    "                break\n",
    "        nFiles = nFiles + 1 \n",
    "\n",
    "print('Negative files are indexed!')\n",
    "# Save ids Matrix for future uses.\n",
    "np.save(os.path.join(currentDir,'idsMatrix.npy'), ids)"
   ]
  },
  {
   "cell_type": "code",
   "execution_count": 4,
   "metadata": {},
   "outputs": [
    {
     "name": "stdout",
     "output_type": "stream",
     "text": [
      "Word indexes of the first review:  [19898  1906  4454  5284 10661 11694 11994 18784 18569 18619 13174  9821\n",
      " 14794  8884  6443  5767  8589 18850 15570  5596   799 11060  4222 16893\n",
      " 13078  8136  3364  4454  4756 10304  8885  3553  9782  1232 14359 10606\n",
      "   579 15522  2219 15092 14855 15253  4884  3364  5519  4558  9649   269\n",
      " 15522 12309 14855 11503  2212  4884  7155 11577  4222  5767 15076 12225\n",
      " 10774  1218  2876 19584  4558  2974 13452  5013   842 10642 17292 11895\n",
      "   803 11060 16760  1906 15253 14598 15253  1047  5668  4884 10642 12225\n",
      "  7090 17292 18109 13078 16334  1238  3364  5519  4135  3553 14967  4964\n",
      " 15385  9673  2997 14855  7446  8038 11440  1345   842  5767   803 11060\n",
      " 18791  5013     0     0     0     0     0     0     0     0     0     0\n",
      "     0     0     0     0     0     0     0     0     0     0     0     0\n",
      "     0     0     0     0     0     0     0     0     0     0     0     0\n",
      "     0     0     0     0     0     0     0     0     0     0     0     0\n",
      "     0     0     0     0     0     0     0     0     0     0     0     0\n",
      "     0     0     0     0     0     0     0     0     0     0     0     0]\n"
     ]
    }
   ],
   "source": [
    "import numpy as np\n",
    "import os\n",
    "import tensorflow as tf\n",
    "# LƯU Ý: Bước thực hiện trên tương đối mất thời gian.\n",
    "# Trường hợp đã tính toán và lưu ma trận 'ids' rồi thì ta có thể load lên để sử dụng luôn\n",
    "ids = np.load(os.path.join(currentDir,'idsMatrix.npy'))\n",
    "print('Word indexes of the first review: ', ids[0])\n"
   ]
  },
  {
   "cell_type": "markdown",
   "metadata": {},
   "source": [
    "Nếu như quá trình chuyển từ câu dạng văn bảng sang vector các chỉ số trong từ điển ở trên đúng thì ids[0] sẽ nhận giá trị: [19898  1906  4454  5284 10661 11694 11994 18784 18569 18619 13174  9821 ...]"
   ]
  },
  {
   "cell_type": "markdown",
   "metadata": {},
   "source": [
    "## Xây dựng hàm lấy dữ liệu train và test theo từng batch"
   ]
  },
  {
   "cell_type": "markdown",
   "metadata": {},
   "source": [
    "Dưới đây chúng tôi xây dựng các hàm để lấy dữ liệu train và test theo từng batch. Bạn hãy giải thích tại sao lại có các con số 13999, 14999, 15999, 29999 nhé."
   ]
  },
  {
   "cell_type": "code",
   "execution_count": 5,
   "metadata": {},
   "outputs": [],
   "source": [
    "from random import randint\n",
    "\n",
    "def getTrainBatch():\n",
    "    labels = []\n",
    "    arr = np.zeros([batchSize, maxSeqLength])\n",
    "    for i in range(batchSize):\n",
    "        if (i % 2 == 0): \n",
    "            # Pick positive samples randomly\n",
    "            num = randint(1,13999)\n",
    "            labels.append([1,0])\n",
    "        else:\n",
    "            # Pick negative samples randomly\n",
    "            num = randint(15999,29999)\n",
    "            labels.append([0,1])\n",
    "        arr[i] = ids[num-1:num]\n",
    "    return arr, labels\n",
    "\n",
    "def getTestBatch():\n",
    "    labels = []\n",
    "    arr = np.zeros([batchSize, maxSeqLength])\n",
    "    for i in range(batchSize):\n",
    "        num = randint(13999,15999)\n",
    "        if (num <= 14999):\n",
    "            labels.append([1,0])\n",
    "        else:\n",
    "            labels.append([0,1])\n",
    "        arr[i] = ids[num-1:num]\n",
    "    return arr, labels"
   ]
  },
  {
   "cell_type": "markdown",
   "metadata": {},
   "source": [
    "# 3. Xây dựng RNN Model với Tensorflow"
   ]
  },
  {
   "cell_type": "markdown",
   "metadata": {},
   "source": [
    "Đầu tiên chúng tôi sẽ khởi tạo các tham số cho mô hình mạng RNN với các cell là các LSTM. Kiến trúc mạng ở đây bao gồm 128 đơn vị cho mỗi lớp, số lượng layer là 2, số lượng phân lớp là 2 và số vòng lặp khi huấn luyện là 30000."
   ]
  },
  {
   "cell_type": "code",
   "execution_count": 7,
   "metadata": {},
   "outputs": [],
   "source": [
    "# Initialize paramters\n",
    "numDimensions = 300\n",
    "batchSize = 64\n",
    "lstmUnits = 128\n",
    "nLayers = 2\n",
    "numClasses = 2\n",
    "iterations = 30000"
   ]
  },
  {
   "cell_type": "markdown",
   "metadata": {},
   "source": [
    "Để lưu trữ dữ liệu input và ouput, chúng ta sẽ sử dụng hai kiểu dữ liệu placeholder. Một trong những điều quan trọng nhất khi khởi tạo các biến input và output này là xác định kích thước của các tensor. Mỗi output của mạng (hay còn gọi là label) sẽ là một vector one hot với hai giá trị tương ứng với hai loại cảm xúc: [1, 0] cho positive và [0, 1] cho negative."
   ]
  },
  {
   "cell_type": "markdown",
   "metadata": {},
   "source": [
    "![caption](Images/data_batch.png)"
   ]
  },
  {
   "cell_type": "markdown",
   "metadata": {},
   "source": [
    "## ToDo 3.3: Xác định input và output"
   ]
  },
  {
   "cell_type": "markdown",
   "metadata": {},
   "source": [
    "Khởi tạo hai biến 'inputs' và 'labels' bằng kiểu placeholder."
   ]
  },
  {
   "cell_type": "code",
   "execution_count": 8,
   "metadata": {},
   "outputs": [
    {
     "name": "stdout",
     "output_type": "stream",
     "text": [
      "Input: Tensor(\"Placeholder:0\", shape=(?, 180), dtype=int32)\n",
      "Label: Tensor(\"Placeholder_1:0\", shape=(?, 2), dtype=float32)\n"
     ]
    }
   ],
   "source": [
    "import tensorflow as tf\n",
    "tf.reset_default_graph()\n",
    "\n",
    "# TODO 3.3: Khởi tạo hai biến 'inputs' và 'labels'\n",
    "inputs = tf.placeholder(shape=(None, maxSeqLength), dtype=tf.int32)\n",
    "labels = tf.placeholder(shape=(None, numClasses), dtype=tf.float32)\n",
    "\n",
    "print(\"Input: {0}\".format(inputs))\n",
    "print(\"Label: {0}\".format(labels))\n"
   ]
  },
  {
   "cell_type": "markdown",
   "metadata": {},
   "source": [
    "Sau đó tạo dữ liệu word vector từ khối dữ liệu đầu vào với ma trận word embedding. Nếu như quá trình khởi tạo đúng thì sẽ tạo ra các kiểu dữ liệu sau:\n",
    "labels --> Tensor(\"Placeholder:0\", shape=(64, 2), dtype=float32)\n",
    "inputs --> Tensor(\"Placeholder_1:0\", shape=(64, 180), dtype=int32)"
   ]
  },
  {
   "cell_type": "markdown",
   "metadata": {},
   "source": [
    "![caption](Images/embedding_data.png)"
   ]
  },
  {
   "cell_type": "code",
   "execution_count": 9,
   "metadata": {},
   "outputs": [
    {
     "name": "stdout",
     "output_type": "stream",
     "text": [
      "Tensor(\"embedding_lookup/Identity:0\", shape=(?, 180, 300), dtype=float32)\n"
     ]
    }
   ],
   "source": [
    "data = tf.nn.embedding_lookup(wordVectors, inputs)\n",
    "print(data)"
   ]
  },
  {
   "cell_type": "markdown",
   "metadata": {},
   "source": [
    "Như vậy sau bước này chúng ta đã có dữ liệu để đưa vào mạng mạng các LSTM. Để khởi tạo một LSTM chúng ta sử dụng hàm tf.nn.rnn_cell.BasicLSTMCell. Hàm này cần tham số đầu vào là số lượng đơn vị muốn khởi tạo. Đây chính là một hyperparamter đã được khởi tạo trước đó.\n",
    "Để chống lại việc overfitting, chúng ta sử dụng lớp dropout. \n",
    "\n",
    "Để tăng tính phức tạp cho kiến trúc mạng chúng ta chồng các lớp LSTM lên nhau (Stack LSTM Layers). Trong trường hợp này chúng ta sử dụng 2 lớp LSTM. Việc chồng thêm các lớp LSTM sẽ giúp cho mô hình có khả năng nhớ nhiều thông tin hơn nhưng đồng thời cũng làm tăng số lượng tham số khi huấn luyện. Điều này cũng có nghĩa là sẽ làm tăng thời gian huấn luyện cũng như là cần thêm nhiều dữ liệu hơn.\n",
    "\n",
    "Cuối cùng là đưa toàn bộ dữ liệu đầu vào vào mạng các LSTM sử dụng hàm tf.nn.dynamic_rnn. Chi tiết kiến trúc mạng LSTM sử dụng cho bài tập này được mô tả trong hình sau:\n",
    "\n",
    "![caption](Images/architecture.png)"
   ]
  },
  {
   "cell_type": "code",
   "execution_count": 10,
   "metadata": {},
   "outputs": [
    {
     "name": "stdout",
     "output_type": "stream",
     "text": [
      "Tensor(\"rnn/transpose_1:0\", shape=(?, 180, 128), dtype=float32)\n"
     ]
    }
   ],
   "source": [
    "def generate_a_lstm_layer():\n",
    "    # Khởi tạo một LSTM layer với 'lstmUnits' unit sử dụng hàm tf.contrib.rnn.BasicLSTMCell\n",
    "    lstm_cell = tf.nn.rnn_cell.LSTMCell(num_units=lstmUnits)\n",
    "    # Sau đó tạo một lớp dropout để chống overfitting với hệ số out_keep_prob bằng 0.75\n",
    "    # Sử dụng hàm tf.contrib.rnn.DropoutWrapper\n",
    "    dropout_cell = tf.contrib.rnn.DropoutWrapper(cell=lstm_cell, output_keep_prob=0.75)\n",
    "    return dropout_cell\n",
    "\n",
    "# Sau khi đã có hàm tạo một LSTM Layer, ta sử dụng hàm này để chồng các LSTM lên\n",
    "# Stack các LSTM layer với hàm tf.nn.rnn_cell.MultiRNNCell\n",
    "lstm_stack = tf.nn.rnn_cell.MultiRNNCell([generate_a_lstm_layer() for _ in range(nLayers)])\n",
    "# Feed data variable vào mạng LSTM sử dụng hàm tf.nn.dynamic_rnn\n",
    "outputs, _ = tf.nn.dynamic_rnn(cell=lstm_stack, inputs=data, dtype=tf.float32)\n",
    "\n",
    "print(outputs)"
   ]
  },
  {
   "cell_type": "markdown",
   "metadata": {},
   "source": [
    "Sau khi ra khỏi mạng LSTM, biến outputs sẽ là một tensor có kích thước [batchSize x maxSeqLength x lstmUnits], cụ thể là [64 x 180 x 128]."
   ]
  },
  {
   "cell_type": "markdown",
   "metadata": {},
   "source": [
    "Sau đó, chúng ta chỉ lấy dữ liệu ở LSTM cell cuối cùng và cho đi qua lớp kết nối đầy đủ để phân loại thành 2 trạng thái. Chỉ số của LSTM cell cuối cùng là 179 (do có 180 cell theo chiều ngang)  nên để có thể lấy được giá trị ta sẽ chuyển vị về tensor có kích thước [maxSeqLength x batchSize x lstmUnits] hay [180 x 64 x 128]. Sử dụng hàm tf.gather để lấy tensor thứ 179 có kích thước [64 x 128] bao gồm 64 mẫu vector 128 chiều. Vector 128 chiều này sẽ được đưa vào lớp fully connected để chuyển đổi về vector 2 chiều tương ứng với 2 trạng thái.\n",
    "\n",
    "Lớp kết nối đầy đủ bao gồm các bộ tham số 'weight' và 'bias' để thực hiện việc dự đoán kết quả. Bước này chính là tạo một lớp Fully Connected như trong sơ đồ kiến trúc mạng LSTM."
   ]
  },
  {
   "cell_type": "code",
   "execution_count": 11,
   "metadata": {},
   "outputs": [],
   "source": [
    "weight = tf.Variable(tf.truncated_normal([lstmUnits, numClasses]))\n",
    "bias = tf.Variable(tf.constant(0.1, shape=[numClasses]))\n",
    "\n",
    "# Lấy giá trị output tại LSTM cell cuối cùng\n",
    "outputs = tf.transpose(outputs, [1, 0, 2])\n",
    "last = tf.gather(outputs, int(outputs.get_shape()[0]) - 1)\n",
    "# Đưa qua mạng Fully Connected mà không có activation function\n",
    "prediction = (tf.matmul(last, weight) + bias)"
   ]
  },
  {
   "cell_type": "markdown",
   "metadata": {},
   "source": [
    "Để xác định độ chính xác của hệ thống, ta đếm số lượng labels khớp với giá trị dự đoán (prediction). Sau đó tính độ chính xác bằng cách tính giá trị trung bình của các kết quả trả về đúng."
   ]
  },
  {
   "cell_type": "code",
   "execution_count": 12,
   "metadata": {},
   "outputs": [],
   "source": [
    "correctResult = tf.equal(tf.argmax(prediction,1), tf.argmax(labels,1))\n",
    "accuracy = tf.reduce_mean(tf.cast(correctResult, tf.float32))"
   ]
  },
  {
   "cell_type": "markdown",
   "metadata": {},
   "source": [
    "Sau đó chúng ta sẽ xác định hàm độ lỗi sử dụng softmax cross entropy được tính từ dữ liệu dự đoán và tập labels. Cuối cùng là chọn thuật toán tối ưu với tham số learning rate mặc định là 0.001. "
   ]
  },
  {
   "cell_type": "code",
   "execution_count": 14,
   "metadata": {},
   "outputs": [],
   "source": [
    "loss = tf.reduce_mean(tf.nn.softmax_cross_entropy_with_logits_v2(logits=prediction, labels=labels))\n",
    "optimizer = tf.train.AdamOptimizer().minimize(loss)"
   ]
  },
  {
   "cell_type": "markdown",
   "metadata": {},
   "source": [
    "## Sử dụng Tensorboard để visualize kết quả"
   ]
  },
  {
   "cell_type": "markdown",
   "metadata": {},
   "source": [
    "Trong quá trình huấn luyện, chương trình sẽ ghi log về độ lỗi và độ chính xác trên tập train vào thư mục 'tensorboard', lưu lại model sau mỗi 2000 vòng lặp ở thư mục 'models'. Việc huấn luyện trên 30,000 vòng lặp mất khoảng vài tiếng với GPU K80 được cung cấp bởi Google Colab."
   ]
  },
  {
   "cell_type": "markdown",
   "metadata": {},
   "source": [
    "# 4. Huấn luyện"
   ]
  },
  {
   "cell_type": "markdown",
   "metadata": {},
   "source": [
    "Với mỗi vòng lặp, ta sẽ lấy ra một batch dữ liệu train để đưa vào mạng sử dụng `feed_dict`. với các tham số input và label là các placeholders. Bước huấn luyện này được lặp lại cho đến khi hết số lần cần huấn luyện."
   ]
  },
  {
   "cell_type": "code",
   "execution_count": 14,
   "metadata": {},
   "outputs": [],
   "source": [
    "import datetime\n",
    "\n",
    "tf.summary.scalar('Loss', loss)\n",
    "tf.summary.scalar('Accuracy', accuracy)\n",
    "merged = tf.summary.merge_all()\n",
    "logdir = \"tensorboard/\" + datetime.datetime.now().strftime(\"%Y%m%d-%H%M%S\") + \"/\""
   ]
  },
  {
   "cell_type": "code",
   "execution_count": 15,
   "metadata": {},
   "outputs": [
    {
     "name": "stdout",
     "output_type": "stream",
     "text": [
      "ep 0: 0.8610270619392395\n",
      "ep 50: 0.6989483833312988\n",
      "ep 100: 0.6747074127197266\n",
      "ep 150: 0.7084382772445679\n",
      "ep 200: 0.7170931100845337\n",
      "ep 250: 0.7085788249969482\n",
      "ep 300: 0.7052076458930969\n",
      "ep 350: 0.69911789894104\n",
      "ep 400: 0.6907621026039124\n",
      "ep 450: 0.6912717819213867\n",
      "ep 500: 0.7057293057441711\n",
      "ep 550: 0.6905572414398193\n",
      "ep 600: 0.6999112367630005\n",
      "ep 650: 0.7012168169021606\n",
      "ep 700: 0.6978756189346313\n",
      "ep 750: 0.6902561187744141\n",
      "ep 800: 0.6949688196182251\n",
      "ep 850: 0.6842989921569824\n",
      "ep 900: 0.6781560778617859\n",
      "ep 950: 0.708814263343811\n",
      "ep 1000: 0.6867075562477112\n",
      "ep 1050: 0.7040005922317505\n",
      "ep 1100: 0.7095699906349182\n",
      "ep 1150: 0.7069879770278931\n",
      "ep 1200: 0.6980184316635132\n",
      "ep 1250: 0.7032909393310547\n",
      "ep 1300: 0.6707701683044434\n",
      "ep 1350: 0.7023104429244995\n",
      "ep 1400: 0.6908102631568909\n",
      "ep 1450: 0.672399640083313\n",
      "ep 1500: 0.6945757865905762\n",
      "ep 1550: 0.6887494325637817\n",
      "ep 1600: 0.7033859491348267\n",
      "ep 1650: 0.6802258491516113\n",
      "ep 1700: 0.6822383999824524\n",
      "ep 1750: 0.6918179988861084\n",
      "ep 1800: 0.6938483715057373\n",
      "ep 1850: 0.6838524341583252\n",
      "ep 1900: 0.6881934404373169\n",
      "ep 1950: 0.6930811405181885\n",
      "saved to .\\models/pretrained_lstm.ckpt-1999\n",
      "ep 2000: 0.6937683820724487\n",
      "ep 2050: 0.7041152715682983\n",
      "ep 2100: 0.6770714521408081\n",
      "ep 2150: 0.6833202838897705\n",
      "ep 2200: 0.685670018196106\n",
      "ep 2250: 0.6881036758422852\n",
      "ep 2300: 0.6885120272636414\n",
      "ep 2350: 0.6921851634979248\n",
      "ep 2400: 0.6983231902122498\n",
      "ep 2450: 0.6874097585678101\n",
      "ep 2500: 0.6788989305496216\n",
      "ep 2550: 0.6857235431671143\n",
      "ep 2600: 0.653512716293335\n",
      "ep 2650: 0.6798105835914612\n",
      "ep 2700: 0.6920971274375916\n",
      "ep 2750: 0.6768492460250854\n",
      "ep 2800: 0.6874416470527649\n",
      "ep 2850: 0.6816904544830322\n",
      "ep 2900: 0.6811004281044006\n",
      "ep 2950: 0.6989647746086121\n",
      "ep 3000: 0.6683695912361145\n",
      "ep 3050: 0.6837728023529053\n",
      "ep 3100: 0.6721104383468628\n",
      "ep 3150: 0.6887754201889038\n",
      "ep 3200: 0.6924432516098022\n",
      "ep 3250: 0.6971100568771362\n",
      "ep 3300: 0.6854265928268433\n",
      "ep 3350: 0.6958780288696289\n",
      "ep 3400: 0.6859043836593628\n",
      "ep 3450: 0.6847754120826721\n",
      "ep 3500: 0.6862654685974121\n",
      "ep 3550: 0.6853040456771851\n",
      "ep 3600: 0.6727415919303894\n",
      "ep 3650: 0.7007046341896057\n",
      "ep 3700: 0.6860264539718628\n",
      "ep 3750: 0.6990327835083008\n",
      "ep 3800: 0.6801367998123169\n",
      "ep 3850: 0.6943554878234863\n",
      "ep 3900: 0.6867505311965942\n",
      "ep 3950: 0.6916535496711731\n",
      "saved to .\\models/pretrained_lstm.ckpt-3999\n",
      "ep 4000: 0.4858233332633972\n",
      "ep 4050: 0.5135567784309387\n",
      "ep 4100: 0.43351420760154724\n",
      "ep 4150: 0.4595559537410736\n",
      "ep 4200: 0.5577821731567383\n",
      "ep 4250: 0.3978657126426697\n",
      "ep 4300: 0.40561866760253906\n",
      "ep 4350: 0.38939368724823\n",
      "ep 4400: 0.4969661831855774\n",
      "ep 4450: 0.40107226371765137\n",
      "ep 4500: 0.3789542615413666\n",
      "ep 4550: 0.29996973276138306\n",
      "ep 4600: 0.46336203813552856\n",
      "ep 4650: 0.3547039330005646\n",
      "ep 4700: 0.3545304536819458\n",
      "ep 4750: 0.2866935133934021\n",
      "ep 4800: 0.4863587021827698\n",
      "ep 4850: 0.43509745597839355\n",
      "ep 4900: 0.29717642068862915\n",
      "ep 4950: 0.3718821406364441\n",
      "ep 5000: 0.3926874101161957\n",
      "ep 5050: 0.3878861367702484\n",
      "ep 5100: 0.3603348433971405\n",
      "ep 5150: 0.3632364869117737\n",
      "ep 5200: 0.4398702085018158\n",
      "ep 5250: 0.4547422230243683\n",
      "ep 5300: 0.2895391583442688\n",
      "ep 5350: 0.4563823938369751\n",
      "ep 5400: 0.3726891279220581\n",
      "ep 5450: 0.3993337154388428\n",
      "ep 5500: 0.4596758484840393\n",
      "ep 5550: 0.4039752781391144\n",
      "ep 5600: 0.2732226848602295\n",
      "ep 5650: 0.41673484444618225\n",
      "ep 5700: 0.34586578607559204\n",
      "ep 5750: 0.4505900740623474\n",
      "ep 5800: 0.3435218930244446\n",
      "ep 5850: 0.31734246015548706\n",
      "ep 5900: 0.38810640573501587\n",
      "ep 5950: 0.4085065722465515\n",
      "saved to .\\models/pretrained_lstm.ckpt-5999\n",
      "ep 6000: 0.40450146794319153\n",
      "ep 6050: 0.35869860649108887\n",
      "ep 6100: 0.3379844129085541\n",
      "ep 6150: 0.33778253197669983\n",
      "ep 6200: 0.4343211054801941\n",
      "ep 6250: 0.3847109377384186\n",
      "ep 6300: 0.4076750874519348\n",
      "ep 6350: 0.25467440485954285\n",
      "ep 6400: 0.32069647312164307\n",
      "ep 6450: 0.29736119508743286\n",
      "ep 6500: 0.3281691074371338\n",
      "ep 6550: 0.43918928503990173\n",
      "ep 6600: 0.42351266741752625\n",
      "ep 6650: 0.24918843805789948\n",
      "ep 6700: 0.41657382249832153\n",
      "ep 6750: 0.4375436305999756\n",
      "ep 6800: 0.28451281785964966\n",
      "ep 6850: 0.27466312050819397\n",
      "ep 6900: 0.40488192439079285\n",
      "ep 6950: 0.43905144929885864\n",
      "ep 7000: 0.2672688364982605\n",
      "ep 7050: 0.27865105867385864\n",
      "ep 7100: 0.4037269651889801\n",
      "ep 7150: 0.2874019742012024\n",
      "ep 7200: 0.2946524918079376\n",
      "ep 7250: 0.3298671543598175\n",
      "ep 7300: 0.29682406783103943\n",
      "ep 7350: 0.19484205543994904\n",
      "ep 7400: 0.1582752913236618\n",
      "ep 7450: 0.2838519811630249\n",
      "ep 7500: 0.1975352168083191\n",
      "ep 7550: 0.29407984018325806\n",
      "ep 7600: 0.26341280341148376\n",
      "ep 7650: 0.3135119080543518\n",
      "ep 7700: 0.2999265789985657\n",
      "ep 7750: 0.3100922703742981\n",
      "ep 7800: 0.30261558294296265\n",
      "ep 7850: 0.3054075837135315\n",
      "ep 7900: 0.3148393929004669\n",
      "ep 7950: 0.2816498279571533\n",
      "saved to .\\models/pretrained_lstm.ckpt-7999\n",
      "ep 8000: 0.24160921573638916\n",
      "ep 8050: 0.21546407043933868\n",
      "ep 8100: 0.21362251043319702\n",
      "ep 8150: 0.4042503237724304\n",
      "ep 8200: 0.426749050617218\n",
      "ep 8250: 0.15992555022239685\n",
      "ep 8300: 0.27189207077026367\n",
      "ep 8350: 0.26677319407463074\n",
      "ep 8400: 0.30165186524391174\n",
      "ep 8450: 0.322185218334198\n",
      "ep 8500: 0.3151516318321228\n",
      "ep 8550: 0.4074060916900635\n",
      "ep 8600: 0.22177833318710327\n",
      "ep 8650: 0.3322715163230896\n",
      "ep 8700: 0.39980369806289673\n",
      "ep 8750: 0.32181137800216675\n",
      "ep 8800: 0.25954651832580566\n",
      "ep 8850: 0.41571515798568726\n",
      "ep 8900: 0.38678112626075745\n",
      "ep 8950: 0.2800886332988739\n",
      "ep 9000: 0.2660505771636963\n",
      "ep 9050: 0.26764440536499023\n",
      "ep 9100: 0.1614673137664795\n",
      "ep 9150: 0.31673067808151245\n",
      "ep 9200: 0.19953690469264984\n",
      "ep 9250: 0.16523273289203644\n",
      "ep 9300: 0.33758026361465454\n",
      "ep 9350: 0.3442494869232178\n",
      "ep 9400: 0.23678606748580933\n",
      "ep 9450: 0.2700521945953369\n",
      "ep 9500: 0.21361880004405975\n",
      "ep 9550: 0.344851016998291\n",
      "ep 9600: 0.2655772268772125\n",
      "ep 9650: 0.19955278933048248\n",
      "ep 9700: 0.24037665128707886\n",
      "ep 9750: 0.17274147272109985\n",
      "ep 9800: 0.2052716314792633\n",
      "ep 9850: 0.3202049136161804\n",
      "ep 9900: 0.1084611639380455\n",
      "ep 9950: 0.1831989288330078\n",
      "saved to .\\models/pretrained_lstm.ckpt-9999\n",
      "ep 10000: 0.20241457223892212\n",
      "ep 10050: 0.2110636979341507\n",
      "ep 10100: 0.1741674691438675\n",
      "ep 10150: 0.17768023908138275\n",
      "ep 10200: 0.2035234570503235\n",
      "ep 10250: 0.1390475481748581\n",
      "ep 10300: 0.14903414249420166\n",
      "ep 10350: 0.2724910378456116\n",
      "ep 10400: 0.22454431653022766\n",
      "ep 10450: 0.18268093466758728\n",
      "ep 10500: 0.2153586745262146\n",
      "ep 10550: 0.32133257389068604\n",
      "ep 10600: 0.1453891098499298\n",
      "ep 10650: 0.2402423471212387\n",
      "ep 10700: 0.33495134115219116\n",
      "ep 10750: 0.13257822394371033\n",
      "ep 10800: 0.13638412952423096\n",
      "ep 10850: 0.18232369422912598\n",
      "ep 10900: 0.17084813117980957\n",
      "ep 10950: 0.24137580394744873\n",
      "ep 11000: 0.1842869520187378\n",
      "ep 11050: 0.2908520996570587\n",
      "ep 11100: 0.08190090954303741\n",
      "ep 11150: 0.21371981501579285\n",
      "ep 11200: 0.19872334599494934\n",
      "ep 11250: 0.26600539684295654\n",
      "ep 11300: 0.12106917798519135\n",
      "ep 11350: 0.17400571703910828\n",
      "ep 11400: 0.3502691090106964\n",
      "ep 11450: 0.24608208239078522\n",
      "ep 11500: 0.14786608517169952\n",
      "ep 11550: 0.12657301127910614\n",
      "ep 11600: 0.22957012057304382\n",
      "ep 11650: 0.2538878917694092\n",
      "ep 11700: 0.12030090391635895\n",
      "ep 11750: 0.1907661259174347\n",
      "ep 11800: 0.13511714339256287\n",
      "ep 11850: 0.09291661530733109\n",
      "ep 11900: 0.18584313988685608\n",
      "ep 11950: 0.19155123829841614\n",
      "saved to .\\models/pretrained_lstm.ckpt-11999\n",
      "ep 12000: 0.1976533681154251\n",
      "ep 12050: 0.10722680389881134\n",
      "ep 12100: 0.12425533682107925\n",
      "ep 12150: 0.0919533520936966\n",
      "ep 12200: 0.19505733251571655\n",
      "ep 12250: 0.19965046644210815\n",
      "ep 12300: 0.22350439429283142\n",
      "ep 12350: 0.10597684979438782\n",
      "ep 12400: 0.18087972700595856\n",
      "ep 12450: 0.06342019140720367\n",
      "ep 12500: 0.1142321228981018\n",
      "ep 12550: 0.06724558770656586\n",
      "ep 12600: 0.08062604069709778\n",
      "ep 12650: 0.18289479613304138\n",
      "ep 12700: 0.13078179955482483\n",
      "ep 12750: 0.20979438722133636\n",
      "ep 12800: 0.12119592726230621\n",
      "ep 12850: 0.12142639607191086\n",
      "ep 12900: 0.2193719893693924\n",
      "ep 12950: 0.24694129824638367\n",
      "ep 13000: 0.0652879849076271\n",
      "ep 13050: 0.1994202882051468\n",
      "ep 13100: 0.20112699270248413\n",
      "ep 13150: 0.09280595183372498\n",
      "ep 13200: 0.1569044589996338\n",
      "ep 13250: 0.22233489155769348\n",
      "ep 13300: 0.11957639455795288\n",
      "ep 13350: 0.14124688506126404\n",
      "ep 13400: 0.1933123916387558\n",
      "ep 13450: 0.1346031278371811\n",
      "ep 13500: 0.08736525475978851\n",
      "ep 13550: 0.15893054008483887\n",
      "ep 13600: 0.25183379650115967\n",
      "ep 13650: 0.12746606767177582\n",
      "ep 13700: 0.1439947783946991\n",
      "ep 13750: 0.18603703379631042\n",
      "ep 13800: 0.0761595368385315\n",
      "ep 13850: 0.21279747784137726\n"
     ]
    },
    {
     "name": "stdout",
     "output_type": "stream",
     "text": [
      "ep 13900: 0.17048221826553345\n",
      "ep 13950: 0.1804126501083374\n",
      "saved to .\\models/pretrained_lstm.ckpt-13999\n",
      "ep 14000: 0.12655720114707947\n",
      "ep 14050: 0.1716098189353943\n",
      "ep 14100: 0.08997733891010284\n",
      "ep 14150: 0.09460379928350449\n",
      "ep 14200: 0.08669798076152802\n",
      "ep 14250: 0.09793771803379059\n",
      "ep 14300: 0.034430958330631256\n",
      "ep 14350: 0.07996215671300888\n",
      "ep 14400: 0.07597465813159943\n",
      "ep 14450: 0.10974662750959396\n",
      "ep 14500: 0.049628619104623795\n",
      "ep 14550: 0.03746325150132179\n",
      "ep 14600: 0.18787291646003723\n",
      "ep 14650: 0.1298801153898239\n",
      "ep 14700: 0.23534759879112244\n",
      "ep 14750: 0.17239654064178467\n",
      "ep 14800: 0.09192337840795517\n",
      "ep 14850: 0.19511575996875763\n",
      "ep 14900: 0.07722628116607666\n",
      "ep 14950: 0.059193000197410583\n",
      "ep 15000: 0.24374814331531525\n",
      "ep 15050: 0.037767503410577774\n",
      "ep 15100: 0.05285106971859932\n",
      "ep 15150: 0.24539870023727417\n",
      "ep 15200: 0.06845115125179291\n",
      "ep 15250: 0.22033295035362244\n",
      "ep 15300: 0.060244351625442505\n",
      "ep 15350: 0.10055708885192871\n",
      "ep 15400: 0.0218779556453228\n",
      "ep 15450: 0.13211624324321747\n",
      "ep 15500: 0.11934617161750793\n",
      "ep 15550: 0.103549525141716\n",
      "ep 15600: 0.06556099653244019\n",
      "ep 15650: 0.10977800190448761\n",
      "ep 15700: 0.039995938539505005\n",
      "ep 15750: 0.22874632477760315\n",
      "ep 15800: 0.0587598979473114\n",
      "ep 15850: 0.07358628511428833\n",
      "ep 15900: 0.07458765059709549\n",
      "ep 15950: 0.03264587000012398\n",
      "saved to .\\models/pretrained_lstm.ckpt-15999\n",
      "ep 16000: 0.03875895217061043\n",
      "ep 16050: 0.2473553717136383\n",
      "ep 16100: 0.22932137548923492\n",
      "ep 16150: 0.09029541909694672\n",
      "ep 16200: 0.06084790825843811\n",
      "ep 16250: 0.06589339673519135\n",
      "ep 16300: 0.12237092852592468\n",
      "ep 16350: 0.028546517714858055\n",
      "ep 16400: 0.07543781399726868\n",
      "ep 16450: 0.12699423730373383\n",
      "ep 16500: 0.08527590334415436\n",
      "ep 16550: 0.09488479793071747\n",
      "ep 16600: 0.04976336285471916\n",
      "ep 16650: 0.02687183953821659\n",
      "ep 16700: 0.19027239084243774\n",
      "ep 16750: 0.10234308242797852\n",
      "ep 16800: 0.08025087416172028\n",
      "ep 16850: 0.1709795743227005\n",
      "ep 16900: 0.03252781182527542\n",
      "ep 16950: 0.04756442457437515\n",
      "ep 17000: 0.12489475309848785\n",
      "ep 17050: 0.13044364750385284\n",
      "ep 17100: 0.19134946167469025\n",
      "ep 17150: 0.06094716861844063\n",
      "ep 17200: 0.0812210962176323\n",
      "ep 17250: 0.11282015591859818\n",
      "ep 17300: 0.0701039656996727\n",
      "ep 17350: 0.07051841169595718\n",
      "ep 17400: 0.027691878378391266\n",
      "ep 17450: 0.00910104252398014\n",
      "ep 17500: 0.14382533729076385\n",
      "ep 17550: 0.07001341879367828\n",
      "ep 17600: 0.0882144644856453\n",
      "ep 17650: 0.09372997283935547\n",
      "ep 17700: 0.10225585103034973\n",
      "ep 17750: 0.05713581293821335\n",
      "ep 17800: 0.06529110670089722\n",
      "ep 17850: 0.04040084779262543\n",
      "ep 17900: 0.054197050631046295\n",
      "ep 17950: 0.09209813177585602\n",
      "saved to .\\models/pretrained_lstm.ckpt-17999\n",
      "ep 18000: 0.013153026811778545\n",
      "ep 18050: 0.05504082888364792\n",
      "ep 18100: 0.0564955435693264\n",
      "ep 18150: 0.026988493278622627\n",
      "ep 18200: 0.13318243622779846\n",
      "ep 18250: 0.029718074947595596\n",
      "ep 18300: 0.007338604424148798\n",
      "ep 18350: 0.06914035975933075\n",
      "ep 18400: 0.052126288414001465\n",
      "ep 18450: 0.04822127893567085\n",
      "ep 18500: 0.08491311222314835\n",
      "ep 18550: 0.05581212788820267\n",
      "ep 18600: 0.08693768084049225\n",
      "ep 18650: 0.09907027333974838\n",
      "ep 18700: 0.05281464010477066\n",
      "ep 18750: 0.06858430802822113\n",
      "ep 18800: 0.06360366195440292\n",
      "ep 18850: 0.058939047157764435\n",
      "ep 18900: 0.023437131196260452\n",
      "ep 18950: 0.030899398028850555\n",
      "ep 19000: 0.02561357244849205\n",
      "ep 19050: 0.09360402077436447\n",
      "ep 19100: 0.06442958861589432\n",
      "ep 19150: 0.044057026505470276\n",
      "ep 19200: 0.08349322527647018\n",
      "ep 19250: 0.03488479182124138\n",
      "ep 19300: 0.03781070560216904\n",
      "ep 19350: 0.06266851723194122\n",
      "ep 19400: 0.04749225825071335\n",
      "ep 19450: 0.1313273310661316\n",
      "ep 19500: 0.04908360540866852\n",
      "ep 19550: 0.11550343781709671\n",
      "ep 19600: 0.10753369331359863\n",
      "ep 19650: 0.013692864216864109\n",
      "ep 19700: 0.0543069951236248\n",
      "ep 19750: 0.02929946780204773\n",
      "ep 19800: 0.09357108175754547\n",
      "ep 19850: 0.021895894780755043\n",
      "ep 19900: 0.11369092762470245\n",
      "ep 19950: 0.05780009180307388\n",
      "saved to .\\models/pretrained_lstm.ckpt-19999\n",
      "ep 20000: 0.05025743320584297\n",
      "ep 20050: 0.02642492949962616\n",
      "ep 20100: 0.10185450315475464\n",
      "ep 20150: 0.04385541379451752\n",
      "ep 20200: 0.1304999589920044\n",
      "ep 20250: 0.06326313316822052\n",
      "ep 20300: 0.05924064666032791\n",
      "ep 20350: 0.032096076756715775\n",
      "ep 20400: 0.15074820816516876\n",
      "ep 20450: 0.13207903504371643\n",
      "ep 20500: 0.05053234100341797\n",
      "ep 20550: 0.07503452152013779\n",
      "ep 20600: 0.12264367192983627\n",
      "ep 20650: 0.01828659512102604\n",
      "ep 20700: 0.13168378174304962\n",
      "ep 20750: 0.1639934778213501\n",
      "ep 20800: 0.02457728050649166\n",
      "ep 20850: 0.04208158701658249\n",
      "ep 20900: 0.02590412087738514\n",
      "ep 20950: 0.056543655693531036\n",
      "ep 21000: 0.09121242165565491\n",
      "ep 21050: 0.11404860764741898\n",
      "ep 21100: 0.13722530007362366\n",
      "ep 21150: 0.038772061467170715\n",
      "ep 21200: 0.0319255031645298\n",
      "ep 21250: 0.1561015546321869\n",
      "ep 21300: 0.25837960839271545\n",
      "ep 21350: 0.08766480535268784\n",
      "ep 21400: 0.09820212423801422\n",
      "ep 21450: 0.01686067134141922\n",
      "ep 21500: 0.09523453563451767\n",
      "ep 21550: 0.026179462671279907\n",
      "ep 21600: 0.034695059061050415\n",
      "ep 21650: 0.06095154210925102\n",
      "ep 21700: 0.048470232635736465\n",
      "ep 21750: 0.02671312540769577\n",
      "ep 21800: 0.015584063716232777\n",
      "ep 21850: 0.009166440926492214\n",
      "ep 21900: 0.0647025778889656\n",
      "ep 21950: 0.11859878152608871\n",
      "saved to .\\models/pretrained_lstm.ckpt-21999\n",
      "ep 22000: 0.15743212401866913\n",
      "ep 22050: 0.03220364451408386\n",
      "ep 22100: 0.02693476714193821\n",
      "ep 22150: 0.02786533161997795\n",
      "ep 22200: 0.05196070671081543\n",
      "ep 22250: 0.04724031686782837\n",
      "ep 22300: 0.010826854035258293\n",
      "ep 22350: 0.008948605507612228\n",
      "ep 22400: 0.015094928443431854\n",
      "ep 22450: 0.020067065954208374\n",
      "ep 22500: 0.07481075823307037\n",
      "ep 22550: 0.02207869477570057\n",
      "ep 22600: 0.12154950201511383\n",
      "ep 22650: 0.02082151174545288\n",
      "ep 22700: 0.016755618155002594\n",
      "ep 22750: 0.014391079545021057\n",
      "ep 22800: 0.019617117941379547\n",
      "ep 22850: 0.030376628041267395\n",
      "ep 22900: 0.04983042925596237\n",
      "ep 22950: 0.04797941818833351\n",
      "ep 23000: 0.07168779522180557\n",
      "ep 23050: 0.032232366502285004\n",
      "ep 23100: 0.132645383477211\n",
      "ep 23150: 0.044741012156009674\n",
      "ep 23200: 0.022585755214095116\n",
      "ep 23250: 0.05294140428304672\n",
      "ep 23300: 0.006272793747484684\n",
      "ep 23350: 0.052775055170059204\n",
      "ep 23400: 0.07915087044239044\n",
      "ep 23450: 0.12472600489854813\n",
      "ep 23500: 0.08486802875995636\n",
      "ep 23550: 0.06221776455640793\n",
      "ep 23600: 0.03835991024971008\n",
      "ep 23650: 0.1584009975194931\n",
      "ep 23700: 0.05853389948606491\n",
      "ep 23750: 0.08521019667387009\n",
      "ep 23800: 0.043013330549001694\n",
      "ep 23850: 0.0682135820388794\n",
      "ep 23900: 0.023346370086073875\n",
      "ep 23950: 0.006304430775344372\n",
      "saved to .\\models/pretrained_lstm.ckpt-23999\n",
      "ep 24000: 0.018497202545404434\n",
      "ep 24050: 0.030174290761351585\n",
      "ep 24100: 0.03081487864255905\n",
      "ep 24150: 0.0069182333536446095\n",
      "ep 24200: 0.018215980380773544\n",
      "ep 24250: 0.06156778335571289\n",
      "ep 24300: 0.03317688778042793\n",
      "ep 24350: 0.043158240616321564\n",
      "ep 24400: 0.06034019589424133\n",
      "ep 24450: 0.15502780675888062\n",
      "ep 24500: 0.03767470642924309\n",
      "ep 24550: 0.18320736289024353\n",
      "ep 24600: 0.06764832884073257\n",
      "ep 24650: 0.11183120310306549\n",
      "ep 24700: 0.10089791566133499\n",
      "ep 24750: 0.01365579292178154\n",
      "ep 24800: 0.04099202901124954\n",
      "ep 24850: 0.11502677202224731\n",
      "ep 24900: 0.0487959086894989\n",
      "ep 24950: 0.05215830355882645\n",
      "ep 25000: 0.034363746643066406\n",
      "ep 25050: 0.11432947218418121\n",
      "ep 25100: 0.08025556057691574\n",
      "ep 25150: 0.019311904907226562\n",
      "ep 25200: 0.03638119250535965\n",
      "ep 25250: 0.016168545931577682\n",
      "ep 25300: 0.04584620147943497\n",
      "ep 25350: 0.035015515983104706\n",
      "ep 25400: 0.1186685860157013\n",
      "ep 25450: 0.020117174834012985\n",
      "ep 25500: 0.042992815375328064\n",
      "ep 25550: 0.02242022193968296\n",
      "ep 25600: 0.012784160673618317\n",
      "ep 25650: 0.010765211656689644\n",
      "ep 25700: 0.04141067713499069\n",
      "ep 25750: 0.020954396575689316\n",
      "ep 25800: 0.1249539852142334\n",
      "ep 25850: 0.1372028887271881\n",
      "ep 25900: 0.009259101934731007\n",
      "ep 25950: 0.02124040201306343\n",
      "saved to .\\models/pretrained_lstm.ckpt-25999\n",
      "ep 26000: 0.09076976776123047\n",
      "ep 26050: 0.07661528140306473\n",
      "ep 26100: 0.09260047227144241\n",
      "ep 26150: 0.053146835416555405\n",
      "ep 26200: 0.07216573506593704\n",
      "ep 26250: 0.05847815051674843\n",
      "ep 26300: 0.07549726963043213\n",
      "ep 26350: 0.0717136561870575\n",
      "ep 26400: 0.03216038644313812\n",
      "ep 26450: 0.03706526756286621\n",
      "ep 26500: 0.03554801642894745\n",
      "ep 26550: 0.04374037683010101\n",
      "ep 26600: 0.004845044109970331\n",
      "ep 26650: 0.022434722632169724\n",
      "ep 26700: 0.03470718115568161\n",
      "ep 26750: 0.026483839377760887\n",
      "ep 26800: 0.06596283614635468\n",
      "ep 26850: 0.05055897310376167\n",
      "ep 26900: 0.04042680189013481\n",
      "ep 26950: 0.021822836250066757\n"
     ]
    },
    {
     "name": "stdout",
     "output_type": "stream",
     "text": [
      "ep 27000: 0.16062065958976746\n",
      "ep 27050: 0.009987357072532177\n",
      "ep 27100: 0.012688666582107544\n",
      "ep 27150: 0.11099287867546082\n",
      "ep 27200: 0.085148386657238\n",
      "ep 27250: 0.05136563628911972\n",
      "ep 27300: 0.03613414615392685\n",
      "ep 27350: 0.09175519645214081\n",
      "ep 27400: 0.018511876463890076\n",
      "ep 27450: 0.04480850324034691\n",
      "ep 27500: 0.005737181752920151\n",
      "ep 27550: 0.026391910389065742\n",
      "ep 27600: 0.014103478752076626\n",
      "ep 27650: 0.01624821312725544\n",
      "ep 27700: 0.04183433577418327\n",
      "ep 27750: 0.014260128140449524\n",
      "ep 27800: 0.007123716175556183\n",
      "ep 27850: 0.021888168528676033\n",
      "ep 27900: 0.011010467074811459\n",
      "ep 27950: 0.006293396931141615\n",
      "saved to .\\models/pretrained_lstm.ckpt-27999\n",
      "ep 28000: 0.00609554210677743\n",
      "ep 28050: 0.10114724189043045\n",
      "ep 28100: 0.03197281062602997\n",
      "ep 28150: 0.07816150784492493\n",
      "ep 28200: 0.0704340711236\n",
      "ep 28250: 0.012082318775355816\n",
      "ep 28300: 0.022075969725847244\n",
      "ep 28350: 0.005327344872057438\n",
      "ep 28400: 0.08473294973373413\n",
      "ep 28450: 0.08322055637836456\n",
      "ep 28500: 0.04514515399932861\n",
      "ep 28550: 0.07525453716516495\n",
      "ep 28600: 0.034047696739435196\n",
      "ep 28650: 0.0683085098862648\n",
      "ep 28700: 0.022810515016317368\n",
      "ep 28750: 0.008980232290923595\n",
      "ep 28800: 0.009365187957882881\n",
      "ep 28850: 0.0360528863966465\n",
      "ep 28900: 0.020198199898004532\n",
      "ep 28950: 0.11135192960500717\n",
      "ep 29000: 0.055736370384693146\n",
      "ep 29050: 0.016951899975538254\n",
      "ep 29100: 0.012523049488663673\n",
      "ep 29150: 0.011802908033132553\n",
      "ep 29200: 0.32546141743659973\n",
      "ep 29250: 0.09882646799087524\n",
      "ep 29300: 0.050912074744701385\n",
      "ep 29350: 0.09803900867700577\n",
      "ep 29400: 0.039144061505794525\n",
      "ep 29450: 0.04702143371105194\n",
      "ep 29500: 0.0027481315191835165\n",
      "ep 29550: 0.09069497138261795\n",
      "ep 29600: 0.043524421751499176\n",
      "ep 29650: 0.0067932382225990295\n",
      "ep 29700: 0.006296651903539896\n",
      "ep 29750: 0.03148099407553673\n",
      "ep 29800: 0.0091398935765028\n",
      "ep 29850: 0.017583735287189484\n",
      "ep 29900: 0.04897856339812279\n",
      "ep 29950: 0.017002524808049202\n",
      "saved to .\\models/pretrained_lstm.ckpt-29999\n"
     ]
    }
   ],
   "source": [
    "sess = tf.InteractiveSession()\n",
    "writer = tf.summary.FileWriter(logdir, sess.graph)\n",
    "saver = tf.train.Saver()\n",
    "sess.run(tf.global_variables_initializer())\n",
    "\n",
    "for i in range(iterations):\n",
    "    # TODO 3.5\n",
    "    # Get next training batch\n",
    "    nextBatch, nextBatchLabels = getTrainBatch()\n",
    "    # Feed to optimizer\n",
    "    train_loss, _ = sess.run([loss, optimizer], feed_dict={inputs:nextBatch, labels:nextBatchLabels})\n",
    "    #Write summary to Tensorboard\n",
    "    if (i % 50 == 0):\n",
    "        summary = sess.run(merged, {inputs: nextBatch, labels: nextBatchLabels})\n",
    "        writer.add_summary(summary, i)\n",
    "        print(\"ep {0}: {1}\".format(i, train_loss))\n",
    "\n",
    "    # Save model every 2000 training iterations\n",
    "    if ((i + 1) % 2000 == 0 and i != 0):\n",
    "        save_path = saver.save(sess, os.path.join(currentDir,\"models/pretrained_lstm.ckpt\"), global_step=i)\n",
    "        print(\"saved to %s\" % save_path)\n",
    "writer.close()"
   ]
  },
  {
   "cell_type": "markdown",
   "metadata": {},
   "source": [
    "# 5. Load mô hình đã train và đánh giá mô hình"
   ]
  },
  {
   "cell_type": "markdown",
   "metadata": {},
   "source": [
    "Thời gian huấn luyện mạng khá lâu, nên trong quá trình mạng đang được huấn luyện, ta sẽ lưu lại một số checkpoint. Để có thể test thử trên một checkpoint mới nhất ta sử dụng hàm tf.train.latest_checkpoint và truyền vào tên thư mục muốn lấy model mới nhất."
   ]
  },
  {
   "cell_type": "code",
   "execution_count": 16,
   "metadata": {},
   "outputs": [
    {
     "name": "stdout",
     "output_type": "stream",
     "text": [
      "INFO:tensorflow:Restoring parameters from .\\models\\pretrained_lstm.ckpt-29999\n"
     ]
    }
   ],
   "source": [
    "import tensorflow as tf\n",
    "sess = tf.InteractiveSession()\n",
    "saver = tf.train.Saver()\n",
    "saver.restore(sess, tf.train.latest_checkpoint(os.path.join(currentDir,'models')))"
   ]
  },
  {
   "cell_type": "markdown",
   "metadata": {},
   "source": [
    "Sau đó, với mỗi batch dữ liệu test, ta sẽ tiến hành test và tính độ chính xác"
   ]
  },
  {
   "cell_type": "markdown",
   "metadata": {},
   "source": [
    "### ToDo 3.6: Test mô hình"
   ]
  },
  {
   "cell_type": "code",
   "execution_count": 17,
   "metadata": {},
   "outputs": [
    {
     "name": "stdout",
     "output_type": "stream",
     "text": [
      "Accuracy for this batch: 0.71875\n",
      "Accuracy for this batch: 0.796875\n",
      "Accuracy for this batch: 0.8125\n",
      "Accuracy for this batch: 0.671875\n",
      "Accuracy for this batch: 0.875\n",
      "Accuracy for this batch: 0.78125\n",
      "Accuracy for this batch: 0.703125\n",
      "Accuracy for this batch: 0.78125\n",
      "Accuracy for this batch: 0.671875\n",
      "Accuracy for this batch: 0.796875\n"
     ]
    }
   ],
   "source": [
    "# Test on 10 batches\n",
    "iterations = 10\n",
    "for i in range(iterations):\n",
    "    nextBatch, nextBatchLabels = getTestBatch()\n",
    "    # TODO 3.6: Tính độ chính xác 'accuracy' trên các test batch và gán vào 'test_acc'\n",
    "    test_acc = sess.run(accuracy, feed_dict={inputs:nextBatch, labels:nextBatchLabels})\n",
    "    print(\"Accuracy for this batch:\", test_acc)"
   ]
  },
  {
   "cell_type": "markdown",
   "metadata": {},
   "source": [
    "Do các bộ test được lấy ngẫu nhiên nên độ chính xác trong quá trình này cũng dao động từ 70% đến 90%."
   ]
  },
  {
   "cell_type": "markdown",
   "metadata": {},
   "source": [
    "## ToDo 3.7: Viết hàm tổng hợp để dự đoán cảm xúc từ câu tiếng Việt"
   ]
  },
  {
   "cell_type": "markdown",
   "metadata": {},
   "source": [
    "Câu cuối cùng này đòi hỏi đòi hỏi các bạn phải vận dụng tư duy tổng hợp để gom tất cả những bước đã thực hiện trước đó thành một quy trình hoàn chỉnh. Các bạn cần viết một hàm hoàn chỉnh với đầu vào là  một câu tiếng Việt cho trước, đầu ra là cho biết câu trên có cảm xúc tích cực hay tiêu cực."
   ]
  },
  {
   "cell_type": "code",
   "execution_count": 21,
   "metadata": {},
   "outputs": [],
   "source": [
    "# TODO 3.7 Các bạn vận dụng toàn bộ quy trình đã thực hiện trước đó\n",
    "# để dự đoán xem câu này có cảm xúc tích cực hay tiêu cực\n",
    "# Câu này làm khá dài và có tính chất tổng hợp\n",
    "import tensorflow as tf\n",
    "import numpy as np\n",
    "import os\n",
    "import re\n",
    "\n",
    "def cleanSentences(string):\n",
    "    strip_special_chars = re.compile(\"[^\\w0-9 ]+\")\n",
    "    \n",
    "    string = string.lower().replace(\"<br />\", \" \")\n",
    "    return re.sub(strip_special_chars, \"\", string.lower())\n",
    "\n",
    "def generate_a_lstm_layer(lstmUnits):\n",
    "    lstm_cell = tf.nn.rnn_cell.LSTMCell(num_units=lstmUnits)\n",
    "    dropout_cell = tf.contrib.rnn.DropoutWrapper(cell=lstm_cell, output_keep_prob=0.75)\n",
    "    return dropout_cell\n",
    "      \n",
    "def load_model(currentDir):\n",
    "    wordsList = np.load(os.path.join(currentDir, 'wordsList.npy'))\n",
    "    wordsList = wordsList.tolist()\n",
    "    \n",
    "    wordVectors = np.load(os.path.join(currentDir, 'wordVectors.npy'))\n",
    "    wordVectors = np.float32(wordVectors)\n",
    "    \n",
    "    numDimensions = 300\n",
    "    lstmUnits = 128\n",
    "    nLayers = 2\n",
    "    numClasses = 2\n",
    "    maxSeqLength = 180\n",
    "    \n",
    "    tf.reset_default_graph()\n",
    "    inputs = tf.placeholder(shape=(None, maxSeqLength), dtype=tf.int32)\n",
    "    data = tf.nn.embedding_lookup(wordVectors, inputs)\n",
    "\n",
    "    lstm_stack = tf.nn.rnn_cell.MultiRNNCell([generate_a_lstm_layer(lstmUnits) for _ in range(nLayers)])\n",
    "    outputs, _ = tf.nn.dynamic_rnn(cell=lstm_stack, inputs=data, dtype=tf.float32)\n",
    "    \n",
    "    weight = tf.Variable(tf.truncated_normal([lstmUnits, numClasses]))\n",
    "    bias = tf.Variable(tf.constant(0.1, shape=[numClasses]))\n",
    "\n",
    "    outputs = tf.transpose(outputs, [1, 0, 2])\n",
    "    last = tf.gather(outputs, int(outputs.get_shape()[0]) - 1)\n",
    "    prediction = (tf.matmul(last, weight) + bias)\n",
    "    \n",
    "    sess = tf.InteractiveSession()\n",
    "    saver = tf.train.Saver()\n",
    "    saver.restore(sess, tf.train.latest_checkpoint(os.path.join(currentDir,'models')))\n",
    "    \n",
    "    return (sess, wordsList, maxSeqLength, inputs, prediction)\n",
    "    \n",
    "def sentence_emotion(model, sentence):\n",
    "    sess, wordsList, maxSeqLength, inputs, prediction = model\n",
    "    # chuan hoa cau thanh vector 180 dong\n",
    "    cleanedLine = cleanSentences(sentence)\n",
    "    split = cleanedLine.split()\n",
    "    nIndexes = 0\n",
    "    sentence_vector = np.zeros((1, maxSeqLength), dtype='int32')\n",
    "    for word in split:\n",
    "        if word in wordsList:\n",
    "            sentence_vector[0, nIndexes] = wordsList.index(word)\n",
    "        else:\n",
    "            sentence_vector[0, nIndexes] = unk_idx\n",
    "\n",
    "        nIndexes = nIndexes + 1\n",
    "        if nIndexes >= maxSeqLength:\n",
    "            break\n",
    "            \n",
    "    # Feed data vao mang de tinh prediction\n",
    "    output = sess.run(tf.argmax(prediction, 1), feed_dict={inputs:sentence_vector})\n",
    "    \n",
    "    # tra ve ket qua\n",
    "    return np.array_equal(output, [0])"
   ]
  },
  {
   "cell_type": "code",
   "execution_count": 22,
   "metadata": {},
   "outputs": [
    {
     "name": "stdout",
     "output_type": "stream",
     "text": [
      "INFO:tensorflow:Restoring parameters from .\\models\\pretrained_lstm.ckpt-29999\n"
     ]
    }
   ],
   "source": [
    "model = load_model('.')"
   ]
  },
  {
   "cell_type": "code",
   "execution_count": 24,
   "metadata": {},
   "outputs": [
    {
     "name": "stdout",
     "output_type": "stream",
     "text": [
      "Positive\n",
      "Negative\n"
     ]
    }
   ],
   "source": [
    "input_sentence_pos = 'Món này ăn ngon mê ly luôn. Vị ngọt và thơm quá trời quá đất.'\n",
    "if sentence_emotion(model, input_sentence_pos):\n",
    "    print('Positive')\n",
    "else:\n",
    "    print('Negative')\n",
    "    \n",
    "input_sentence_neg = 'Bingsu dưa lưới ăn chán lắm . Dưa lưới nhạt , không có gì đáng để khen hết . Những món còn lại chưa thử nên không có ý_kiến !'\n",
    "if sentence_emotion(model, input_sentence_neg):\n",
    "    print('Positive')\n",
    "else:\n",
    "    print('Negative')"
   ]
  },
  {
   "cell_type": "markdown",
   "metadata": {
    "collapsed": true
   },
   "source": [
    "# Kết luận"
   ]
  },
  {
   "cell_type": "markdown",
   "metadata": {},
   "source": [
    "Như vậy qua bài tập này, các bạn được ôn lại mô hình Word2Vec và sử dụng mô hình này để biểu diễn cho một văn bản. Sử dụng cách biểu diễn này để đưa vào mô hình RNN với nhiều đơn vị LSTM. Các bạn có thể thử nghiệm trên các cấu hình khác nhau bằng cách thay đổi các hyperparameter."
   ]
  },
  {
   "cell_type": "code",
   "execution_count": null,
   "metadata": {},
   "outputs": [],
   "source": []
  }
 ],
 "metadata": {
  "anaconda-cloud": {},
  "kernelspec": {
   "display_name": "Python 3",
   "language": "python",
   "name": "python3"
  },
  "language_info": {
   "codemirror_mode": {
    "name": "ipython",
    "version": 3
   },
   "file_extension": ".py",
   "mimetype": "text/x-python",
   "name": "python",
   "nbconvert_exporter": "python",
   "pygments_lexer": "ipython3",
   "version": "3.6.7"
  }
 },
 "nbformat": 4,
 "nbformat_minor": 1
}
